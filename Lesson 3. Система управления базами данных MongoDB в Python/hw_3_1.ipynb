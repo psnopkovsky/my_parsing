{
 "cells": [
  {
   "cell_type": "markdown",
   "metadata": {},
   "source": [
    "1. Развернуть у себя на компьютере/виртуальной машине/хостинге MongoDB и реализовать функцию, которая будет добавлять только новые вакансии/продукты в вашу базу."
   ]
  },
  {
   "cell_type": "code",
   "execution_count": 1,
   "metadata": {},
   "outputs": [],
   "source": [
    "import pandas as pd\n",
    "import requests\n",
    "from bs4 import BeautifulSoup as bs\n",
    "from pprint import pprint\n",
    "import math\n",
    "import re\n",
    "import warnings\n",
    "\n",
    "from pymongo import MongoClient\n",
    "\n",
    "warnings.filterwarnings(\"ignore\")"
   ]
  },
  {
   "cell_type": "code",
   "execution_count": 2,
   "metadata": {},
   "outputs": [],
   "source": [
    "headers = {'User-Agent': \n",
    "           'Mozilla/5.0 (Windows NT 10.0; Win64; x64) AppleWebKit/537.36 (KHTML, like Gecko) Chrome/99.0.4844.84 Safari/537.36'}"
   ]
  },
  {
   "cell_type": "code",
   "execution_count": 3,
   "metadata": {},
   "outputs": [],
   "source": [
    "client = MongoClient('127.0.0.1', 27017)\n",
    "db = client['my_database']\n",
    "vac = db.vacancies"
   ]
  },
  {
   "cell_type": "code",
   "execution_count": 4,
   "metadata": {},
   "outputs": [],
   "source": [
    "def hh_search():\n",
    "    \n",
    "    base_hh_url = 'https://hh.ru'\n",
    "    \n",
    "    for i in range(pages):\n",
    "        full_hh_url = base_hh_url + f'/search/vacancy?area=1&fromSearchLine=true&text={search_query}&from=suggest_post&page={i}&hhtmFrom=vacancy_search_list'\n",
    "        response = requests.get(full_hh_url, headers = headers)\n",
    "        with open('response.html', 'w', encoding = 'utf-8') as f:\n",
    "            f.write(response.text)\n",
    "        html = ''\n",
    "        with open('response.html', 'r', encoding = 'utf-8') as f:\n",
    "            html = f.read()\n",
    "        dom = bs(html, 'html.parser')\n",
    "        vacancies = dom.find_all('div', {'class': \"vacancy-serp-item-body__main-info\"})\n",
    "\n",
    "        for vacancy in vacancies:\n",
    "            vacancy_data = {}\n",
    "            vacancy_link = vacancy.find('a', {'data-qa': 'vacancy-serp__vacancy-title' })['href']\n",
    "            vacancy_name = vacancy.find('a', {'data-qa': 'vacancy-serp__vacancy-title' }).getText()\n",
    "            site = base_hh_url\n",
    "            sallary = vacancy.find('span', {'data-qa' : 'vacancy-serp__vacancy-compensation'})\n",
    "\n",
    "            if sallary:\n",
    "                text = sallary.getText()\n",
    "\n",
    "                if 'от' in text:\n",
    "\n",
    "                    min_sallary = re.findall('[0-9]+', text)\n",
    "                    min_sallary = int(''.join(min_sallary))\n",
    "                    max_sallary = None\n",
    "                    cur_sallary = re.findall('[A-zА-я]+', text)\n",
    "                    currency = cur_sallary[1]                   \n",
    "                    vacancy_data['link'] = vacancy_link\n",
    "                    vacancy_data['name'] = vacancy_name\n",
    "                    vacancy_data['min'] = min_sallary\n",
    "                    vacancy_data['max'] = max_sallary\n",
    "                    vacancy_data['currency'] = currency\n",
    "                    vacancy_data['site'] = site\n",
    "                    if len(list(vac.find({'link': vacancy_link}))) == 0:\n",
    "                        vac.insert_one(vacancy_data)\n",
    "\n",
    "                    continue\n",
    "                \n",
    "                if 'до' in text:\n",
    "\n",
    "                    min_sallary = None\n",
    "                    max_sallary = re.findall('[0-9]+', text)\n",
    "                    max_sallary = int(''.join(max_sallary))\n",
    "                    cur_sallary = re.findall('[A-zА-я]+', text)\n",
    "                    currency = cur_sallary[1]\n",
    "                    vacancy_data['link'] = vacancy_link\n",
    "                    vacancy_data['name'] = vacancy_name\n",
    "                    vacancy_data['min'] = min_sallary\n",
    "                    vacancy_data['max'] = max_sallary\n",
    "                    vacancy_data['currency'] = currency\n",
    "                    vacancy_data['site'] = site\n",
    "                    if len(list(vac.find({'link': vacancy_link}))) == 0:\n",
    "                        vac.insert_one(vacancy_data)\n",
    "                    continue\n",
    "                \n",
    "                else:\n",
    "                    sallary_ = re.findall('[0-9]+', text)\n",
    "                    min_sallary = int(sallary_[0] + sallary_[1])\n",
    "                    max_sallary = int(sallary_[2] + sallary_[3])\n",
    "                    cur_sallary = re.findall('[A-zА-я]+', text)\n",
    "                    currency = cur_sallary[0]\n",
    "                    vacancy_data['link'] = vacancy_link\n",
    "                    vacancy_data['name'] = vacancy_name\n",
    "                    vacancy_data['min'] = min_sallary\n",
    "                    vacancy_data['max'] = max_sallary\n",
    "                    vacancy_data['currency'] = currency\n",
    "                    vacancy_data['site'] = site\n",
    "                    if len(list(vac.find({'link': vacancy_link}))) == 0:\n",
    "                        vac.insert_one(vacancy_data)\n",
    "                    continue\n",
    "            \n",
    "            else:\n",
    "                min_sallary = None\n",
    "                max_sallary = None\n",
    "                currency = None\n",
    "                vacancy_data['link'] = vacancy_link\n",
    "                vacancy_data['name'] = vacancy_name\n",
    "                vacancy_data['min'] = min_sallary\n",
    "                vacancy_data['max'] = max_sallary\n",
    "                vacancy_data['currency'] = currency\n",
    "                vacancy_data['site'] = site\n",
    "                if len(list(vac.find({'link': vacancy_link}))) == 0:\n",
    "                    vac.insert_one(vacancy_data)"
   ]
  },
  {
   "cell_type": "code",
   "execution_count": 5,
   "metadata": {},
   "outputs": [],
   "source": [
    "def sj_search():\n",
    "    base_sj_url = 'https://russia.superjob.ru'\n",
    "    for i in range(pages):\n",
    "        full_sj_url = base_sj_url + f'/vacancy/search/?keywords={search_query}&page={i}'\n",
    "        response = requests.get(full_sj_url, headers = headers, verify=False)\n",
    "        with open('response.html', 'w', encoding = 'utf-8') as f:\n",
    "            f.write(response.text)\n",
    "        html = ''\n",
    "        with open('response.html', 'r', encoding = 'utf-8') as f:\n",
    "            html = f.read()\n",
    "        dom = bs(html, 'html.parser')\n",
    "        vacancies = dom.find_all('div', {'class': '_3JPvf _1O2dw PEEVg WuWPa'})\n",
    "\n",
    "        for vacancy in vacancies:\n",
    "            vacancy_data = {}\n",
    "            vacancy_link = base_sj_url + vacancy.find('a', {'class': '_1IHWd'})['href']\n",
    "            vacancy_name = vacancy.find('span').getText()\n",
    "\n",
    "            sallary = vacancy.find('span', {'class' : '_2eYAG'})\n",
    "            if sallary:\n",
    "                text = sallary.getText()\n",
    "\n",
    "                if 'По договорённости' in text:\n",
    "                    min_sallary = None\n",
    "                    max_sallary = None\n",
    "                    currency = None\n",
    "                    vacancy_data['link'] = vacancy_link\n",
    "                    vacancy_data['name'] = vacancy_name\n",
    "                    vacancy_data['min'] = min_sallary\n",
    "                    vacancy_data['max'] = max_sallary\n",
    "                    vacancy_data['currency'] = currency\n",
    "                    vacancy_data['site'] = base_sj_url\n",
    "                    if len(list(vac.find({'link': vacancy_link}))) == 0:\n",
    "                        vac.insert_one(vacancy_data)\n",
    "                        \n",
    "                    continue\n",
    "\n",
    "\n",
    "                if 'от' in text:\n",
    "\n",
    "                    min_sallary = re.findall('[0-9]+', text)\n",
    "                    min_sallary = int(''.join(min_sallary))\n",
    "                    max_sallary = None\n",
    "                    cur_sallary = re.findall('[A-zА-я]+', text)\n",
    "                    currency = cur_sallary[1]\n",
    "                    vacancy_data['link'] = vacancy_link\n",
    "                    vacancy_data['name'] = vacancy_name\n",
    "                    vacancy_data['min'] = min_sallary\n",
    "                    vacancy_data['max'] = max_sallary\n",
    "                    vacancy_data['currency'] = currency\n",
    "                    vacancy_data['site'] = base_sj_url\n",
    "                    if len(list(vac.find({'link': vacancy_link}))) == 0:\n",
    "                        vac.insert_one(vacancy_data)\n",
    "\n",
    "                    continue\n",
    "\n",
    "                if 'до' in text:\n",
    "\n",
    "                    min_sallary = None\n",
    "                    max_sallary = re.findall('[0-9]+', text)\n",
    "                    max_sallary = ''.join(max_sallary)\n",
    "                    cur_sallary = re.findall('[A-zА-я]+', text)\n",
    "                    currency = cur_sallary[1]\n",
    "                    vacancy_data['link'] = vacancy_link\n",
    "                    vacancy_data['name'] = vacancy_name\n",
    "                    vacancy_data['min'] = min_sallary\n",
    "                    vacancy_data['max'] = max_sallary\n",
    "                    vacancy_data['currency'] = currency\n",
    "                    vacancy_data['site'] = base_sj_url\n",
    "                    if len(list(vac.find({'link': vacancy_link}))) == 0:\n",
    "                        vac.insert_one(vacancy_data)\n",
    "\n",
    "                    continue\n",
    "\n",
    "                else:\n",
    "\n",
    "                    sallary_ = re.findall('[0-9]+', text)\n",
    "                    if len(sallary_) > 2:\n",
    "                        min_sallary = int(sallary_[0] + sallary_[1])\n",
    "                        max_sallary = int(sallary_[2] + sallary_[3])\n",
    "                        cur_sallary = re.findall('[A-zА-я]+', text)\n",
    "                        currency = cur_sallary[0]\n",
    "                        vacancy_data['link'] = vacancy_link\n",
    "                        vacancy_data['name'] = vacancy_name\n",
    "                        vacancy_data['min'] = min_sallary\n",
    "                        vacancy_data['max'] = max_sallary\n",
    "                        vacancy_data['currency'] = currency\n",
    "                        vacancy_data['site'] = base_sj_url\n",
    "                        if len(list(vac.find({'link': vacancy_link}))) == 0:\n",
    "                            vac.insert_one(vacancy_data)\n",
    "                    continue\n",
    "                        \n",
    "            else:\n",
    "                min_sallary = int(sallary_[0] + sallary_[1])\n",
    "                max_sallary = int(sallary_[0] + sallary_[1])\n",
    "                cur_sallary = re.findall('[A-zА-я]+', text)\n",
    "                currency = cur_sallary[0]\n",
    "                vacancy_data['link'] = vacancy_link\n",
    "                vacancy_data['name'] = vacancy_name\n",
    "                vacancy_data['min'] = min_sallary\n",
    "                vacancy_data['max'] = max_sallary\n",
    "                vacancy_data['currency'] = currency\n",
    "                vacancy_data['site'] = base_sj_url\n",
    "                if len(list(vac.find({'link': vacancy_link}))) == 0:\n",
    "                    vac.insert_one(vacancy_data)"
   ]
  },
  {
   "cell_type": "code",
   "execution_count": 6,
   "metadata": {},
   "outputs": [],
   "source": [
    "def get_result():\n",
    "    hh_search()\n",
    "    sj_search()   "
   ]
  },
  {
   "cell_type": "code",
   "execution_count": 7,
   "metadata": {},
   "outputs": [
    {
     "name": "stdout",
     "output_type": "stream",
     "text": [
      "Введите название вакансии для поиска: хирург\n",
      "Введите количество страниц сайта, по которым необходимо собрать информацию: 3\n"
     ]
    }
   ],
   "source": [
    "search_query = input('Введите название вакансии для поиска: ').replace(' ', '+')\n",
    "pages = int(input('Введите количество страниц сайта, по которым необходимо собрать информацию: '))"
   ]
  },
  {
   "cell_type": "code",
   "execution_count": 8,
   "metadata": {},
   "outputs": [
    {
     "name": "stdout",
     "output_type": "stream",
     "text": [
      "Кол-во записей после первой вставки: 100\n",
      "Кол-во записей после второй вставки: 100\n",
      "Кол-во записей после третьей вставки: 100\n"
     ]
    }
   ],
   "source": [
    "get_result()\n",
    "cnt = list(vac.find({}))\n",
    "print(f'Кол-во записей после первой вставки: {len(cnt)}')\n",
    "\n",
    "get_result()\n",
    "cnt = list(vac.find({}))\n",
    "print(f'Кол-во записей после второй вставки: {len(cnt)}')\n",
    "\n",
    "get_result()\n",
    "cnt = list(vac.find({}))\n",
    "print(f'Кол-во записей после третьей вставки: {len(cnt)}')"
   ]
  },
  {
   "cell_type": "code",
   "execution_count": 9,
   "metadata": {},
   "outputs": [],
   "source": [
    "#vac.delete_many({})"
   ]
  },
  {
   "cell_type": "markdown",
   "metadata": {},
   "source": [
    "2. Написать функцию, которая производит поиск и выводит на экран вакансии с заработной платой больше введённой суммы (необходимо анализировать оба поля зарплаты). Для тех, кто выполнил задание с Росконтролем - напишите запрос для поиска продуктов с рейтингом не ниже введенного или качеством не ниже введенного (то есть цифра вводится одна, а запрос проверяет оба поля)"
   ]
  },
  {
   "cell_type": "code",
   "execution_count": 58,
   "metadata": {},
   "outputs": [],
   "source": [
    "\n",
    "def your_vacancies():\n",
    "    stop = False\n",
    "    try:\n",
    "        input_ = int(input('Введите размер зарплаты для отбора вакансий: '))        \n",
    "    except ValueError:\n",
    "        print('Зарплата может быть только числом, причем положительным!')\n",
    "        stop = True\n",
    "    \n",
    "    if stop:\n",
    "        pass\n",
    "    else:\n",
    "        cnt = 0\n",
    "        list_ = []\n",
    "        for doc in vac.find({}):\n",
    "            if doc['max'] == None:\n",
    "                if doc['min'] == None:\n",
    "                    continue\n",
    "                if doc['min'] > input_:\n",
    "                    cnt += 1\n",
    "                    list_.append(doc)\n",
    "                    continue\n",
    "                else:\n",
    "                    continue\n",
    "            elif doc['max'] > input_:\n",
    "                cnt += 1\n",
    "                list_.append(doc)\n",
    "                continue\n",
    "            else:\n",
    "                continue\n",
    "        if len(list_) > 0:\n",
    "            df = pd.DataFrame(data = list_)\n",
    "            display(df)\n",
    "        if cnt == 0:\n",
    "            print('А что ты умеешь такого, что просишь такую зарплату?')            "
   ]
  },
  {
   "cell_type": "code",
   "execution_count": 61,
   "metadata": {},
   "outputs": [
    {
     "name": "stdout",
     "output_type": "stream",
     "text": [
      "Введите размер зарплаты для отбора вакансий: 500000\n",
      "А что ты умеешь такого, что просишь такую зарплату?\n"
     ]
    }
   ],
   "source": [
    "your_vacancies()"
   ]
  },
  {
   "cell_type": "code",
   "execution_count": 62,
   "metadata": {},
   "outputs": [
    {
     "name": "stdout",
     "output_type": "stream",
     "text": [
      "Введите размер зарплаты для отбора вакансий: 300000\n"
     ]
    },
    {
     "data": {
      "text/html": [
       "<div>\n",
       "<style scoped>\n",
       "    .dataframe tbody tr th:only-of-type {\n",
       "        vertical-align: middle;\n",
       "    }\n",
       "\n",
       "    .dataframe tbody tr th {\n",
       "        vertical-align: top;\n",
       "    }\n",
       "\n",
       "    .dataframe thead th {\n",
       "        text-align: right;\n",
       "    }\n",
       "</style>\n",
       "<table border=\"1\" class=\"dataframe\">\n",
       "  <thead>\n",
       "    <tr style=\"text-align: right;\">\n",
       "      <th></th>\n",
       "      <th>_id</th>\n",
       "      <th>link</th>\n",
       "      <th>name</th>\n",
       "      <th>min</th>\n",
       "      <th>max</th>\n",
       "      <th>currency</th>\n",
       "      <th>site</th>\n",
       "    </tr>\n",
       "  </thead>\n",
       "  <tbody>\n",
       "    <tr>\n",
       "      <th>0</th>\n",
       "      <td>624f5e74ae23331dd1e853f1</td>\n",
       "      <td>https://hh.ru/vacancy/54606212?query=%D1%85%D0...</td>\n",
       "      <td>Стоматолог-хирург</td>\n",
       "      <td>250000</td>\n",
       "      <td>500000.0</td>\n",
       "      <td>руб</td>\n",
       "      <td>https://hh.ru</td>\n",
       "    </tr>\n",
       "    <tr>\n",
       "      <th>1</th>\n",
       "      <td>624f5e74ae23331dd1e853f3</td>\n",
       "      <td>https://hh.ru/vacancy/54636500?query=%D1%85%D0...</td>\n",
       "      <td>Стоматолог универсал (ортопед / терапевт / хир...</td>\n",
       "      <td>250000</td>\n",
       "      <td>400000.0</td>\n",
       "      <td>руб</td>\n",
       "      <td>https://hh.ru</td>\n",
       "    </tr>\n",
       "    <tr>\n",
       "      <th>2</th>\n",
       "      <td>624f5e74ae23331dd1e853fe</td>\n",
       "      <td>https://hh.ru/vacancy/54454534?query=%D1%85%D0...</td>\n",
       "      <td>Врач стоматолог-универсал</td>\n",
       "      <td>350000</td>\n",
       "      <td>NaN</td>\n",
       "      <td>руб</td>\n",
       "      <td>https://hh.ru</td>\n",
       "    </tr>\n",
       "    <tr>\n",
       "      <th>3</th>\n",
       "      <td>624f5e74ae23331dd1e8541e</td>\n",
       "      <td>https://hh.ru/vacancy/53265647?query=%D1%85%D0...</td>\n",
       "      <td>Врач-косметолог</td>\n",
       "      <td>270000</td>\n",
       "      <td>350000.0</td>\n",
       "      <td>руб</td>\n",
       "      <td>https://hh.ru</td>\n",
       "    </tr>\n",
       "  </tbody>\n",
       "</table>\n",
       "</div>"
      ],
      "text/plain": [
       "                        _id  \\\n",
       "0  624f5e74ae23331dd1e853f1   \n",
       "1  624f5e74ae23331dd1e853f3   \n",
       "2  624f5e74ae23331dd1e853fe   \n",
       "3  624f5e74ae23331dd1e8541e   \n",
       "\n",
       "                                                link  \\\n",
       "0  https://hh.ru/vacancy/54606212?query=%D1%85%D0...   \n",
       "1  https://hh.ru/vacancy/54636500?query=%D1%85%D0...   \n",
       "2  https://hh.ru/vacancy/54454534?query=%D1%85%D0...   \n",
       "3  https://hh.ru/vacancy/53265647?query=%D1%85%D0...   \n",
       "\n",
       "                                                name     min       max  \\\n",
       "0                                  Стоматолог-хирург  250000  500000.0   \n",
       "1  Стоматолог универсал (ортопед / терапевт / хир...  250000  400000.0   \n",
       "2                          Врач стоматолог-универсал  350000       NaN   \n",
       "3                                    Врач-косметолог  270000  350000.0   \n",
       "\n",
       "  currency           site  \n",
       "0      руб  https://hh.ru  \n",
       "1      руб  https://hh.ru  \n",
       "2      руб  https://hh.ru  \n",
       "3      руб  https://hh.ru  "
      ]
     },
     "metadata": {},
     "output_type": "display_data"
    }
   ],
   "source": [
    "your_vacancies()"
   ]
  },
  {
   "cell_type": "code",
   "execution_count": 63,
   "metadata": {},
   "outputs": [
    {
     "name": "stdout",
     "output_type": "stream",
     "text": [
      "Введите размер зарплаты для отбора вакансий: до х..я\n",
      "Зарплата может быть только числом, причем положительным!\n"
     ]
    }
   ],
   "source": [
    "your_vacancies()"
   ]
  },
  {
   "cell_type": "code",
   "execution_count": null,
   "metadata": {},
   "outputs": [],
   "source": []
  }
 ],
 "metadata": {
  "kernelspec": {
   "display_name": "Python 3",
   "language": "python",
   "name": "python3"
  },
  "language_info": {
   "codemirror_mode": {
    "name": "ipython",
    "version": 3
   },
   "file_extension": ".py",
   "mimetype": "text/x-python",
   "name": "python",
   "nbconvert_exporter": "python",
   "pygments_lexer": "ipython3",
   "version": "3.8.5"
  }
 },
 "nbformat": 4,
 "nbformat_minor": 4
}
