{
 "cells": [
  {
   "cell_type": "markdown",
   "metadata": {},
   "source": [
    "Написать приложение, которое собирает основные новости с сайта на выбор news.mail.ru, lenta.ru, yandex-новости. Для парсинга использовать XPath. Структура данных должна содержать:\n",
    "\n",
    "* **название источника;**\n",
    "\n",
    "* **наименование новости;**\n",
    "\n",
    "* **ссылку на новость;**\n",
    "\n",
    "* **дата публикации.**\n",
    "\n",
    "Сложить собранные новости в БД"
   ]
  },
  {
   "cell_type": "code",
   "execution_count": 1,
   "metadata": {},
   "outputs": [],
   "source": [
    "import requests\n",
    "from lxml import html\n",
    "from pprint import pprint\n",
    "from datetime import datetime\n",
    "\n",
    "from pymongo import MongoClient"
   ]
  },
  {
   "cell_type": "code",
   "execution_count": 2,
   "metadata": {},
   "outputs": [],
   "source": [
    "client = MongoClient('127.0.0.1', 27017)\n",
    "db = client['my_database']\n",
    "news = db.news"
   ]
  },
  {
   "cell_type": "code",
   "execution_count": 3,
   "metadata": {},
   "outputs": [],
   "source": [
    "header = {'User-Agent': \n",
    "          'Mozilla/5.0 (Windows NT 10.0; Win64; x64) AppleWebKit/537.36 (KHTML, like Gecko) Chrome/100.0.4896.75 Safari/537.36'}\n",
    "url = 'https://news.mail.ru/'"
   ]
  },
  {
   "cell_type": "code",
   "execution_count": 4,
   "metadata": {},
   "outputs": [],
   "source": [
    "def get_mail_news():\n",
    "    response = requests.get(url, headers = header)\n",
    "    dom = html.fromstring(response.text)\n",
    "    links = dom.xpath(\"//td[contains(@class, 'daynews__')]/div/a/@href\")\n",
    "    full_data = []\n",
    "    for link in links:\n",
    "        object_ = {}\n",
    "        new_response = requests.get(link, headers = header)\n",
    "        new_dom = html.fromstring(new_response.text)\n",
    "        resourse = new_dom.xpath(\"//a[contains(@class, 'breadcrumbs__link')]/span/text()\")\n",
    "        name = new_dom.xpath(\"//h1[@class = 'hdr__inner']/text()\")\n",
    "        time = new_dom.xpath(\"//span[contains(@class, 'js-ago')]/@datetime\")\n",
    "        time = datetime.strptime(time[0], '%Y-%m-%dT%H:%M:%S%z')\n",
    "        time = time.strftime(\"%d/%m/%Y %H:%M:%S\")\n",
    "        object_['link'] = link\n",
    "        object_['title'] = name\n",
    "        object_['resourse'] = resourse\n",
    "        object_['time'] = time\n",
    "        news.insert_one(object_)"
   ]
  },
  {
   "cell_type": "code",
   "execution_count": 5,
   "metadata": {},
   "outputs": [
    {
     "name": "stdout",
     "output_type": "stream",
     "text": [
      "{'_id': ObjectId('625721e2e01078ca3af0f77a'),\n",
      " 'link': 'https://news.mail.ru/politics/50870541/',\n",
      " 'resourse': ['© РИА Новости'],\n",
      " 'time': '13/04/2022 15:53:41',\n",
      " 'title': ['В Кремле прокомментировали возможность обмена Медведчука']}\n",
      "{'_id': ObjectId('625721e3e01078ca3af0f77b'),\n",
      " 'link': 'https://news.mail.ru/incident/50871266/',\n",
      " 'resourse': ['Известия'],\n",
      " 'time': '13/04/2022 16:50:05',\n",
      " 'title': ['В Ростовской области задержали 26 сотрудников ГИБДД за взятки']}\n",
      "{'_id': ObjectId('625721e3e01078ca3af0f77c'),\n",
      " 'link': 'https://news.mail.ru/politics/50873195/',\n",
      " 'resourse': ['© РИА Новости'],\n",
      " 'time': '13/04/2022 18:51:54',\n",
      " 'title': ['Вена, Берлин и Будапешт выступили против эмбарго на российский '\n",
      "           'газ']}\n",
      "{'_id': ObjectId('625721e3e01078ca3af0f77d'),\n",
      " 'link': 'https://news.mail.ru/economics/50873962/',\n",
      " 'resourse': ['Известия'],\n",
      " 'time': '13/04/2022 20:15:19',\n",
      " 'title': ['В России не ожидают дефицита ибупрофена из-за решения Reckitt '\n",
      "           'передать бизнес']}\n",
      "{'_id': ObjectId('625721e3e01078ca3af0f77e'),\n",
      " 'link': 'https://news.mail.ru/politics/50871705/',\n",
      " 'resourse': ['Коммерсантъ'],\n",
      " 'time': '13/04/2022 17:10:53',\n",
      " 'title': ['Ле Пен пообещала в случае победы добиться «стратегического '\n",
      "           'сближения» НАТО с Россией']}\n"
     ]
    }
   ],
   "source": [
    "get_mail_news()\n",
    "for doc in news.find({}):\n",
    "    pprint(doc)"
   ]
  },
  {
   "cell_type": "code",
   "execution_count": null,
   "metadata": {},
   "outputs": [],
   "source": []
  }
 ],
 "metadata": {
  "kernelspec": {
   "display_name": "Python 3",
   "language": "python",
   "name": "python3"
  },
  "language_info": {
   "codemirror_mode": {
    "name": "ipython",
    "version": 3
   },
   "file_extension": ".py",
   "mimetype": "text/x-python",
   "name": "python",
   "nbconvert_exporter": "python",
   "pygments_lexer": "ipython3",
   "version": "3.8.5"
  }
 },
 "nbformat": 4,
 "nbformat_minor": 4
}
