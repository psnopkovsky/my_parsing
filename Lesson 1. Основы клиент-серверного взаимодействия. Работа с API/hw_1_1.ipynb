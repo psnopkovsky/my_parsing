{
 "cells": [
  {
   "cell_type": "markdown",
   "metadata": {},
   "source": [
    "1. Посмотреть документацию к API GitHub, разобраться как вывести список наименований репозиториев для конкретного пользователя, сохранить JSON-вывод в файле *.json."
   ]
  },
  {
   "cell_type": "code",
   "execution_count": 21,
   "metadata": {},
   "outputs": [],
   "source": [
    "import requests\n",
    "from pprint import pprint\n",
    "import json"
   ]
  },
  {
   "cell_type": "code",
   "execution_count": 22,
   "metadata": {},
   "outputs": [],
   "source": [
    "user = 'psnopkovsky'\n",
    "url = f'https://api.github.com/users/{user}/repos'"
   ]
  },
  {
   "cell_type": "code",
   "execution_count": 23,
   "metadata": {},
   "outputs": [],
   "source": [
    "response = requests.get(url)"
   ]
  },
  {
   "cell_type": "code",
   "execution_count": 24,
   "metadata": {},
   "outputs": [],
   "source": [
    "json_response = response.json()"
   ]
  },
  {
   "cell_type": "code",
   "execution_count": 26,
   "metadata": {},
   "outputs": [
    {
     "name": "stdout",
     "output_type": "stream",
     "text": [
      "{'allow_forking': True,\n",
      " 'archive_url': 'https://api.github.com/repos/psnopkovsky/ml_library/{archive_format}{/ref}',\n",
      " 'archived': False,\n",
      " 'assignees_url': 'https://api.github.com/repos/psnopkovsky/ml_library/assignees{/user}',\n",
      " 'blobs_url': 'https://api.github.com/repos/psnopkovsky/ml_library/git/blobs{/sha}',\n",
      " 'branches_url': 'https://api.github.com/repos/psnopkovsky/ml_library/branches{/branch}',\n",
      " 'clone_url': 'https://github.com/psnopkovsky/ml_library.git',\n",
      " 'collaborators_url': 'https://api.github.com/repos/psnopkovsky/ml_library/collaborators{/collaborator}',\n",
      " 'comments_url': 'https://api.github.com/repos/psnopkovsky/ml_library/comments{/number}',\n",
      " 'commits_url': 'https://api.github.com/repos/psnopkovsky/ml_library/commits{/sha}',\n",
      " 'compare_url': 'https://api.github.com/repos/psnopkovsky/ml_library/compare/{base}...{head}',\n",
      " 'contents_url': 'https://api.github.com/repos/psnopkovsky/ml_library/contents/{+path}',\n",
      " 'contributors_url': 'https://api.github.com/repos/psnopkovsky/ml_library/contributors',\n",
      " 'created_at': '2021-12-26T10:59:13Z',\n",
      " 'default_branch': 'main',\n",
      " 'deployments_url': 'https://api.github.com/repos/psnopkovsky/ml_library/deployments',\n",
      " 'description': None,\n",
      " 'disabled': False,\n",
      " 'downloads_url': 'https://api.github.com/repos/psnopkovsky/ml_library/downloads',\n",
      " 'events_url': 'https://api.github.com/repos/psnopkovsky/ml_library/events',\n",
      " 'fork': False,\n",
      " 'forks': 0,\n",
      " 'forks_count': 0,\n",
      " 'forks_url': 'https://api.github.com/repos/psnopkovsky/ml_library/forks',\n",
      " 'full_name': 'psnopkovsky/ml_library',\n",
      " 'git_commits_url': 'https://api.github.com/repos/psnopkovsky/ml_library/git/commits{/sha}',\n",
      " 'git_refs_url': 'https://api.github.com/repos/psnopkovsky/ml_library/git/refs{/sha}',\n",
      " 'git_tags_url': 'https://api.github.com/repos/psnopkovsky/ml_library/git/tags{/sha}',\n",
      " 'git_url': 'git://github.com/psnopkovsky/ml_library.git',\n",
      " 'has_downloads': True,\n",
      " 'has_issues': True,\n",
      " 'has_pages': False,\n",
      " 'has_projects': True,\n",
      " 'has_wiki': True,\n",
      " 'homepage': None,\n",
      " 'hooks_url': 'https://api.github.com/repos/psnopkovsky/ml_library/hooks',\n",
      " 'html_url': 'https://github.com/psnopkovsky/ml_library',\n",
      " 'id': 441869045,\n",
      " 'is_template': False,\n",
      " 'issue_comment_url': 'https://api.github.com/repos/psnopkovsky/ml_library/issues/comments{/number}',\n",
      " 'issue_events_url': 'https://api.github.com/repos/psnopkovsky/ml_library/issues/events{/number}',\n",
      " 'issues_url': 'https://api.github.com/repos/psnopkovsky/ml_library/issues{/number}',\n",
      " 'keys_url': 'https://api.github.com/repos/psnopkovsky/ml_library/keys{/key_id}',\n",
      " 'labels_url': 'https://api.github.com/repos/psnopkovsky/ml_library/labels{/name}',\n",
      " 'language': None,\n",
      " 'languages_url': 'https://api.github.com/repos/psnopkovsky/ml_library/languages',\n",
      " 'license': None,\n",
      " 'merges_url': 'https://api.github.com/repos/psnopkovsky/ml_library/merges',\n",
      " 'milestones_url': 'https://api.github.com/repos/psnopkovsky/ml_library/milestones{/number}',\n",
      " 'mirror_url': None,\n",
      " 'name': 'ml_library',\n",
      " 'node_id': 'R_kgDOGlZi9Q',\n",
      " 'notifications_url': 'https://api.github.com/repos/psnopkovsky/ml_library/notifications{?since,all,participating}',\n",
      " 'open_issues': 5,\n",
      " 'open_issues_count': 5,\n",
      " 'owner': {'avatar_url': 'https://avatars.githubusercontent.com/u/72597892?v=4',\n",
      "           'events_url': 'https://api.github.com/users/psnopkovsky/events{/privacy}',\n",
      "           'followers_url': 'https://api.github.com/users/psnopkovsky/followers',\n",
      "           'following_url': 'https://api.github.com/users/psnopkovsky/following{/other_user}',\n",
      "           'gists_url': 'https://api.github.com/users/psnopkovsky/gists{/gist_id}',\n",
      "           'gravatar_id': '',\n",
      "           'html_url': 'https://github.com/psnopkovsky',\n",
      "           'id': 72597892,\n",
      "           'login': 'psnopkovsky',\n",
      "           'node_id': 'MDQ6VXNlcjcyNTk3ODky',\n",
      "           'organizations_url': 'https://api.github.com/users/psnopkovsky/orgs',\n",
      "           'received_events_url': 'https://api.github.com/users/psnopkovsky/received_events',\n",
      "           'repos_url': 'https://api.github.com/users/psnopkovsky/repos',\n",
      "           'site_admin': False,\n",
      "           'starred_url': 'https://api.github.com/users/psnopkovsky/starred{/owner}{/repo}',\n",
      "           'subscriptions_url': 'https://api.github.com/users/psnopkovsky/subscriptions',\n",
      "           'type': 'User',\n",
      "           'url': 'https://api.github.com/users/psnopkovsky'},\n",
      " 'private': False,\n",
      " 'pulls_url': 'https://api.github.com/repos/psnopkovsky/ml_library/pulls{/number}',\n",
      " 'pushed_at': '2022-02-03T21:32:06Z',\n",
      " 'releases_url': 'https://api.github.com/repos/psnopkovsky/ml_library/releases{/id}',\n",
      " 'size': 641,\n",
      " 'ssh_url': 'git@github.com:psnopkovsky/ml_library.git',\n",
      " 'stargazers_count': 0,\n",
      " 'stargazers_url': 'https://api.github.com/repos/psnopkovsky/ml_library/stargazers',\n",
      " 'statuses_url': 'https://api.github.com/repos/psnopkovsky/ml_library/statuses/{sha}',\n",
      " 'subscribers_url': 'https://api.github.com/repos/psnopkovsky/ml_library/subscribers',\n",
      " 'subscription_url': 'https://api.github.com/repos/psnopkovsky/ml_library/subscription',\n",
      " 'svn_url': 'https://github.com/psnopkovsky/ml_library',\n",
      " 'tags_url': 'https://api.github.com/repos/psnopkovsky/ml_library/tags',\n",
      " 'teams_url': 'https://api.github.com/repos/psnopkovsky/ml_library/teams',\n",
      " 'topics': [],\n",
      " 'trees_url': 'https://api.github.com/repos/psnopkovsky/ml_library/git/trees{/sha}',\n",
      " 'updated_at': '2021-12-26T10:59:16Z',\n",
      " 'url': 'https://api.github.com/repos/psnopkovsky/ml_library',\n",
      " 'visibility': 'public',\n",
      " 'watchers': 0,\n",
      " 'watchers_count': 0}\n"
     ]
    }
   ],
   "source": [
    "pprint(json_response[0])"
   ]
  },
  {
   "cell_type": "code",
   "execution_count": 27,
   "metadata": {},
   "outputs": [],
   "source": [
    "with open('github_user.json', 'w') as f:\n",
    "    json.dump(json_response, f)"
   ]
  },
  {
   "cell_type": "code",
   "execution_count": 29,
   "metadata": {},
   "outputs": [
    {
     "name": "stdout",
     "output_type": "stream",
     "text": [
      "ml_library\n",
      "python\n"
     ]
    }
   ],
   "source": [
    "for i in json_response:\n",
    "    print(i['name'])"
   ]
  },
  {
   "cell_type": "code",
   "execution_count": null,
   "metadata": {},
   "outputs": [],
   "source": []
  }
 ],
 "metadata": {
  "kernelspec": {
   "display_name": "Python 3",
   "language": "python",
   "name": "python3"
  },
  "language_info": {
   "codemirror_mode": {
    "name": "ipython",
    "version": 3
   },
   "file_extension": ".py",
   "mimetype": "text/x-python",
   "name": "python",
   "nbconvert_exporter": "python",
   "pygments_lexer": "ipython3",
   "version": "3.8.5"
  }
 },
 "nbformat": 4,
 "nbformat_minor": 4
}
